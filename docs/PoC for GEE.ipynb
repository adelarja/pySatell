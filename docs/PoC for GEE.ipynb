{
 "cells": [
  {
   "cell_type": "markdown",
   "id": "d9119bbb",
   "metadata": {},
   "source": [
    "### Authentication\n",
    "First of all we authenticate in ee"
   ]
  },
  {
   "cell_type": "code",
   "execution_count": 1,
   "id": "8b811067",
   "metadata": {},
   "outputs": [
    {
     "data": {
      "text/html": [
       "<p>To authorize access needed by Earth Engine, open the following\n",
       "        URL in a web browser and follow the instructions:</p>\n",
       "        <p><a href=https://code.earthengine.google.com/client-auth?scopes=https%3A//www.googleapis.com/auth/earthengine%20https%3A//www.googleapis.com/auth/devstorage.full_control&request_id=Nm4rQQNyf9_iRLDw4QpOZ5Z1fC2xhrjIawyfHGsJbdk&tc=BhQjRjfNIOpjwwrqvmqAt36AZVh5dUEnyhxCh9Skfbs&cc=eacl8PuTgwRet00b9vBe1iSF906MRPCiK0cQi4gZLd0>https://code.earthengine.google.com/client-auth?scopes=https%3A//www.googleapis.com/auth/earthengine%20https%3A//www.googleapis.com/auth/devstorage.full_control&request_id=Nm4rQQNyf9_iRLDw4QpOZ5Z1fC2xhrjIawyfHGsJbdk&tc=BhQjRjfNIOpjwwrqvmqAt36AZVh5dUEnyhxCh9Skfbs&cc=eacl8PuTgwRet00b9vBe1iSF906MRPCiK0cQi4gZLd0</a></p>\n",
       "        <p>The authorization workflow will generate a code, which you should paste in the box below.</p>\n",
       "        "
      ],
      "text/plain": [
       "<IPython.core.display.HTML object>"
      ]
     },
     "metadata": {},
     "output_type": "display_data"
    },
    {
     "name": "stdout",
     "output_type": "stream",
     "text": [
      "Enter verification code: 4/1ARtbsJoDdZzElAtxRos6DmdL0mbn8ATTaAhZxffbRziYiy_WC9fW9kb7pvc\n",
      "\n",
      "Successfully saved authorization token.\n"
     ]
    }
   ],
   "source": [
    "import ee\n",
    "ee.Authenticate()\n",
    "ee.Initialize()"
   ]
  },
  {
   "cell_type": "code",
   "execution_count": 326,
   "id": "7ac92516",
   "metadata": {},
   "outputs": [],
   "source": [
    "# Get the desired zone shapefile\n",
    "import json\n",
    "with open('/home/aarja/Downloads/georeferences-main/shapefiles/totoral_las_lomitas/whole_farm/whole.geojson', 'r') as jf:\n",
    "    fc = json.load(jf)\n",
    "    totoral = ee.FeatureCollection(fc)"
   ]
  },
  {
   "cell_type": "code",
   "execution_count": 327,
   "id": "174e9c9b",
   "metadata": {},
   "outputs": [],
   "source": [
    "def clipper(image):\n",
    "    global totoral\n",
    "    return image.clip(totoral)"
   ]
  },
  {
   "cell_type": "code",
   "execution_count": 328,
   "id": "32d8bb75",
   "metadata": {},
   "outputs": [],
   "source": [
    "# Import the Sentinel-2 collection\n",
    "#sentinel_2_msi = ee.ImageCollection(\"COPERNICUS/S2_SR\").filterDate('2021-09-01', '2022-10-17').map(clipper)\n",
    "sentinel_2_msi = ee.ImageCollection(\"COPERNICUS/S2\").filterDate('2021-09-01', '2022-10-17').map(clipper)"
   ]
  },
  {
   "cell_type": "code",
   "execution_count": 329,
   "id": "4cbefdee",
   "metadata": {},
   "outputs": [],
   "source": [
    "def calculate_ndvi(image):\n",
    "    ndvi = image.addBands(image.normalizedDifference(['B8', 'B4']))\n",
    "    return ndvi"
   ]
  },
  {
   "cell_type": "code",
   "execution_count": 330,
   "id": "b5e6cf62",
   "metadata": {},
   "outputs": [],
   "source": [
    "sentinel_2_msi = sentinel_2_msi.map(calculate_ndvi)"
   ]
  },
  {
   "cell_type": "code",
   "execution_count": 331,
   "id": "62e4e19c",
   "metadata": {},
   "outputs": [],
   "source": [
    "import folium"
   ]
  },
  {
   "cell_type": "code",
   "execution_count": 332,
   "id": "efd7b6cd",
   "metadata": {},
   "outputs": [],
   "source": [
    "lat, lon = -30.749311, -64.057867\n",
    "\n",
    "my_map = folium.Map(location=[lat, lon], zoom_start=22)"
   ]
  },
  {
   "cell_type": "code",
   "execution_count": 333,
   "id": "b8b384ba",
   "metadata": {},
   "outputs": [],
   "source": [
    "# Define a method for displaying Earth Engine image tiles on a folium map.\n",
    "def add_ee_layer(self, ee_object, vis_params, name):\n",
    "    \n",
    "    try:    \n",
    "        # display ee.Image()\n",
    "        if isinstance(ee_object, ee.image.Image):    \n",
    "            map_id_dict = ee.Image(ee_object).getMapId(vis_params)\n",
    "            folium.raster_layers.TileLayer(\n",
    "            tiles = map_id_dict['tile_fetcher'].url_format,\n",
    "            attr = 'Google Earth Engine',\n",
    "            name = name,\n",
    "            overlay = True,\n",
    "            control = True\n",
    "            ).add_to(self)\n",
    "\n",
    "        # display ee.ImageCollection()\n",
    "        elif isinstance(ee_object, ee.imagecollection.ImageCollection):    \n",
    "            ee_object_new = ee_object.mosaic()\n",
    "            map_id_dict = ee.Image(ee_object_new).getMapId(vis_params)\n",
    "            folium.raster_layers.TileLayer(\n",
    "            tiles = map_id_dict['tile_fetcher'].url_format,\n",
    "            attr = 'Google Earth Engine',\n",
    "            name = name,\n",
    "            overlay = True,\n",
    "            control = True\n",
    "            ).add_to(self)\n",
    "\n",
    "        # display ee.Geometry()\n",
    "        elif isinstance(ee_object, ee.geometry.Geometry):    \n",
    "            folium.GeoJson(\n",
    "            data = ee_object.getInfo(),\n",
    "            name = name,\n",
    "            overlay = True,\n",
    "            control = True\n",
    "        ).add_to(self)\n",
    "\n",
    "        # display ee.FeatureCollection()\n",
    "        elif isinstance(ee_object, ee.featurecollection.FeatureCollection):  \n",
    "            ee_object_new = ee.Image().paint(ee_object, 0, 2)\n",
    "            map_id_dict = ee.Image(ee_object_new).getMapId(vis_params)\n",
    "            folium.raster_layers.TileLayer(\n",
    "            tiles = map_id_dict['tile_fetcher'].url_format,\n",
    "            attr = 'Google Earth Engine',\n",
    "            name = name,\n",
    "            overlay = True,\n",
    "            control = True\n",
    "        ).add_to(self)\n",
    "    \n",
    "    except:\n",
    "        print(\"Could not display {}\".format(name))\n",
    "\n",
    "\n",
    "# Add EE drawing method to folium.\n",
    "folium.Map.add_ee_layer = add_ee_layer"
   ]
  },
  {
   "cell_type": "code",
   "execution_count": 334,
   "id": "47ce675e",
   "metadata": {},
   "outputs": [],
   "source": [
    "# Set visualization parameters for land cover.\n",
    "vis_params = {\n",
    "    'min': -1,'max': 1,\n",
    "    'pallette': ['Red', 'Green']\n",
    "}\n",
    "\n",
    "vis_params = { 'min': 0.0,\n",
    "  'max': 1.0,\n",
    "  'palette': [\n",
    "    'FFFFFF', 'CE7E45', 'DF923D', 'F1B555', 'FCD163', '99B718', '74A901',\n",
    "    '66A000', '529400', '3E8601', '207401', '056201', '004C00', '023B01',\n",
    "    '012E01', '011D01', '011301'\n",
    "  ],}\n",
    "\n",
    "SentinalNdvi = sentinel_2_msi.select('nd')\n",
    "my_map.add_ee_layer(SentinalNdvi, vis_params, 'NDVI')"
   ]
  },
  {
   "cell_type": "code",
   "execution_count": 335,
   "id": "90817964",
   "metadata": {},
   "outputs": [
    {
     "data": {
      "text/html": [
       "<div style=\"width:100%;\"><div style=\"position:relative;width:100%;height:0;padding-bottom:60%;\"><span style=\"color:#565656\">Make this Notebook Trusted to load map: File -> Trust Notebook</span><iframe srcdoc=\"&lt;!DOCTYPE html&gt;\n",
       "&lt;head&gt;    \n",
       "    &lt;meta http-equiv=&quot;content-type&quot; content=&quot;text/html; charset=UTF-8&quot; /&gt;\n",
       "    \n",
       "        &lt;script&gt;\n",
       "            L_NO_TOUCH = false;\n",
       "            L_DISABLE_3D = false;\n",
       "        &lt;/script&gt;\n",
       "    \n",
       "    &lt;style&gt;html, body {width: 100%;height: 100%;margin: 0;padding: 0;}&lt;/style&gt;\n",
       "    &lt;style&gt;#map {position:absolute;top:0;bottom:0;right:0;left:0;}&lt;/style&gt;\n",
       "    &lt;script src=&quot;https://cdn.jsdelivr.net/npm/leaflet@1.6.0/dist/leaflet.js&quot;&gt;&lt;/script&gt;\n",
       "    &lt;script src=&quot;https://code.jquery.com/jquery-1.12.4.min.js&quot;&gt;&lt;/script&gt;\n",
       "    &lt;script src=&quot;https://maxcdn.bootstrapcdn.com/bootstrap/3.2.0/js/bootstrap.min.js&quot;&gt;&lt;/script&gt;\n",
       "    &lt;script src=&quot;https://cdnjs.cloudflare.com/ajax/libs/Leaflet.awesome-markers/2.0.2/leaflet.awesome-markers.js&quot;&gt;&lt;/script&gt;\n",
       "    &lt;link rel=&quot;stylesheet&quot; href=&quot;https://cdn.jsdelivr.net/npm/leaflet@1.6.0/dist/leaflet.css&quot;/&gt;\n",
       "    &lt;link rel=&quot;stylesheet&quot; href=&quot;https://maxcdn.bootstrapcdn.com/bootstrap/3.2.0/css/bootstrap.min.css&quot;/&gt;\n",
       "    &lt;link rel=&quot;stylesheet&quot; href=&quot;https://maxcdn.bootstrapcdn.com/bootstrap/3.2.0/css/bootstrap-theme.min.css&quot;/&gt;\n",
       "    &lt;link rel=&quot;stylesheet&quot; href=&quot;https://maxcdn.bootstrapcdn.com/font-awesome/4.6.3/css/font-awesome.min.css&quot;/&gt;\n",
       "    &lt;link rel=&quot;stylesheet&quot; href=&quot;https://cdnjs.cloudflare.com/ajax/libs/Leaflet.awesome-markers/2.0.2/leaflet.awesome-markers.css&quot;/&gt;\n",
       "    &lt;link rel=&quot;stylesheet&quot; href=&quot;https://cdn.jsdelivr.net/gh/python-visualization/folium/folium/templates/leaflet.awesome.rotate.min.css&quot;/&gt;\n",
       "    \n",
       "            &lt;meta name=&quot;viewport&quot; content=&quot;width=device-width,\n",
       "                initial-scale=1.0, maximum-scale=1.0, user-scalable=no&quot; /&gt;\n",
       "            &lt;style&gt;\n",
       "                #map_6bee01b15064cf597d680ed91af7e9c3 {\n",
       "                    position: relative;\n",
       "                    width: 100.0%;\n",
       "                    height: 100.0%;\n",
       "                    left: 0.0%;\n",
       "                    top: 0.0%;\n",
       "                }\n",
       "            &lt;/style&gt;\n",
       "        \n",
       "&lt;/head&gt;\n",
       "&lt;body&gt;    \n",
       "    \n",
       "            &lt;div class=&quot;folium-map&quot; id=&quot;map_6bee01b15064cf597d680ed91af7e9c3&quot; &gt;&lt;/div&gt;\n",
       "        \n",
       "&lt;/body&gt;\n",
       "&lt;script&gt;    \n",
       "    \n",
       "            var map_6bee01b15064cf597d680ed91af7e9c3 = L.map(\n",
       "                &quot;map_6bee01b15064cf597d680ed91af7e9c3&quot;,\n",
       "                {\n",
       "                    center: [-30.749311, -64.057867],\n",
       "                    crs: L.CRS.EPSG3857,\n",
       "                    zoom: 22,\n",
       "                    zoomControl: true,\n",
       "                    preferCanvas: false,\n",
       "                }\n",
       "            );\n",
       "\n",
       "            \n",
       "\n",
       "        \n",
       "    \n",
       "            var tile_layer_5758bdd552b8e465687a0ae71d9ed2a1 = L.tileLayer(\n",
       "                &quot;https://{s}.tile.openstreetmap.org/{z}/{x}/{y}.png&quot;,\n",
       "                {&quot;attribution&quot;: &quot;Data by \\u0026copy; \\u003ca href=\\&quot;http://openstreetmap.org\\&quot;\\u003eOpenStreetMap\\u003c/a\\u003e, under \\u003ca href=\\&quot;http://www.openstreetmap.org/copyright\\&quot;\\u003eODbL\\u003c/a\\u003e.&quot;, &quot;detectRetina&quot;: false, &quot;maxNativeZoom&quot;: 18, &quot;maxZoom&quot;: 18, &quot;minZoom&quot;: 0, &quot;noWrap&quot;: false, &quot;opacity&quot;: 1, &quot;subdomains&quot;: &quot;abc&quot;, &quot;tms&quot;: false}\n",
       "            ).addTo(map_6bee01b15064cf597d680ed91af7e9c3);\n",
       "        \n",
       "    \n",
       "            var tile_layer_7f69b299a8dfded568ff58214632e3cb = L.tileLayer(\n",
       "                &quot;https://earthengine.googleapis.com/v1alpha/projects/earthengine-legacy/maps/6f7448bc7ead393f5536afafab36511f-ac2b70463814b548d70431cf0660f84e/tiles/{z}/{x}/{y}&quot;,\n",
       "                {&quot;attribution&quot;: &quot;Google Earth Engine&quot;, &quot;detectRetina&quot;: false, &quot;maxNativeZoom&quot;: 18, &quot;maxZoom&quot;: 18, &quot;minZoom&quot;: 0, &quot;noWrap&quot;: false, &quot;opacity&quot;: 1, &quot;subdomains&quot;: &quot;abc&quot;, &quot;tms&quot;: false}\n",
       "            ).addTo(map_6bee01b15064cf597d680ed91af7e9c3);\n",
       "        \n",
       "    \n",
       "            var layer_control_a27db2f389a24ffda71edc75b01fce58 = {\n",
       "                base_layers : {\n",
       "                    &quot;openstreetmap&quot; : tile_layer_5758bdd552b8e465687a0ae71d9ed2a1,\n",
       "                },\n",
       "                overlays :  {\n",
       "                    &quot;NDVI&quot; : tile_layer_7f69b299a8dfded568ff58214632e3cb,\n",
       "                },\n",
       "            };\n",
       "            L.control.layers(\n",
       "                layer_control_a27db2f389a24ffda71edc75b01fce58.base_layers,\n",
       "                layer_control_a27db2f389a24ffda71edc75b01fce58.overlays,\n",
       "                {&quot;autoZIndex&quot;: true, &quot;collapsed&quot;: true, &quot;position&quot;: &quot;topright&quot;}\n",
       "            ).addTo(map_6bee01b15064cf597d680ed91af7e9c3);\n",
       "        \n",
       "&lt;/script&gt;\" style=\"position:absolute;width:100%;height:100%;left:0;top:0;border:none !important;\" allowfullscreen webkitallowfullscreen mozallowfullscreen></iframe></div></div>"
      ],
      "text/plain": [
       "<folium.folium.Map at 0x7f1e5fcd6670>"
      ]
     },
     "metadata": {},
     "output_type": "display_data"
    }
   ],
   "source": [
    "my_map.add_child(folium.LayerControl())\n",
    "display(my_map)"
   ]
  },
  {
   "cell_type": "code",
   "execution_count": null,
   "id": "73c81451",
   "metadata": {},
   "outputs": [],
   "source": []
  }
 ],
 "metadata": {
  "kernelspec": {
   "display_name": "Python 3 (ipykernel)",
   "language": "python",
   "name": "python3"
  },
  "language_info": {
   "codemirror_mode": {
    "name": "ipython",
    "version": 3
   },
   "file_extension": ".py",
   "mimetype": "text/x-python",
   "name": "python",
   "nbconvert_exporter": "python",
   "pygments_lexer": "ipython3",
   "version": "3.9.5"
  }
 },
 "nbformat": 4,
 "nbformat_minor": 5
}
