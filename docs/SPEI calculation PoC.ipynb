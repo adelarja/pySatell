{
 "cells": [
  {
   "cell_type": "code",
   "execution_count": 1,
   "id": "42eadc2c",
   "metadata": {},
   "outputs": [
    {
     "data": {
      "text/html": [
       "<p>To authorize access needed by Earth Engine, open the following\n",
       "        URL in a web browser and follow the instructions:</p>\n",
       "        <p><a href=https://code.earthengine.google.com/client-auth?scopes=https%3A//www.googleapis.com/auth/earthengine%20https%3A//www.googleapis.com/auth/devstorage.full_control&request_id=8E_79zGy_hjqRMCDXZOsy_13xq9I6K-bLSSXeBsofq0&tc=OCHm-q-V8mphlmZHXwDH0CY1fugj_VfAWXD4XXjYzMA&cc=frWWA9iUXeYK_TSJin8tFW3zAXGJjY38CVzuc0g0zE0>https://code.earthengine.google.com/client-auth?scopes=https%3A//www.googleapis.com/auth/earthengine%20https%3A//www.googleapis.com/auth/devstorage.full_control&request_id=8E_79zGy_hjqRMCDXZOsy_13xq9I6K-bLSSXeBsofq0&tc=OCHm-q-V8mphlmZHXwDH0CY1fugj_VfAWXD4XXjYzMA&cc=frWWA9iUXeYK_TSJin8tFW3zAXGJjY38CVzuc0g0zE0</a></p>\n",
       "        <p>The authorization workflow will generate a code, which you should paste in the box below.</p>\n",
       "        "
      ],
      "text/plain": [
       "<IPython.core.display.HTML object>"
      ]
     },
     "metadata": {},
     "output_type": "display_data"
    },
    {
     "name": "stdout",
     "output_type": "stream",
     "text": [
      "Enter verification code: 4/1AfgeXvuZWzFh6sQuwcwbOP8cJxVxF9Fv70baLORx-ywMAqWoMfAkflATqqA\n",
      "\n",
      "Successfully saved authorization token.\n"
     ]
    }
   ],
   "source": [
    "import ee\n",
    "ee.Authenticate()\n",
    "ee.Initialize()"
   ]
  },
  {
   "cell_type": "code",
   "execution_count": null,
   "id": "27a4e755",
   "metadata": {},
   "outputs": [],
   "source": []
  }
 ],
 "metadata": {
  "kernelspec": {
   "display_name": "Python 3 (ipykernel)",
   "language": "python",
   "name": "python3"
  },
  "language_info": {
   "codemirror_mode": {
    "name": "ipython",
    "version": 3
   },
   "file_extension": ".py",
   "mimetype": "text/x-python",
   "name": "python",
   "nbconvert_exporter": "python",
   "pygments_lexer": "ipython3",
   "version": "3.9.5"
  }
 },
 "nbformat": 4,
 "nbformat_minor": 5
}
