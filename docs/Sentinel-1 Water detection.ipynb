{
 "cells": [
  {
   "cell_type": "markdown",
   "id": "1d2c5242",
   "metadata": {},
   "source": [
    "### Autenticación\n",
    "Primero autenticamos e inicializamos gee"
   ]
  },
  {
   "cell_type": "code",
   "execution_count": 1,
   "id": "a491e599",
   "metadata": {},
   "outputs": [
    {
     "data": {
      "text/html": [
       "<p>To authorize access needed by Earth Engine, open the following\n",
       "        URL in a web browser and follow the instructions:</p>\n",
       "        <p><a href=https://code.earthengine.google.com/client-auth?scopes=https%3A//www.googleapis.com/auth/earthengine%20https%3A//www.googleapis.com/auth/devstorage.full_control&request_id=JELcsWPyaxiCcbAgcHOSGj808DtsCJoY6AmCOecX6iQ&tc=wdoyTOeYoWHzE4xDAZLn4mZqB3QGy__37fVfSfpK-qQ&cc=PrGvqrsET7XMVN8rnKo6Cw3DnH4pi4O1pZbufU8pOd8>https://code.earthengine.google.com/client-auth?scopes=https%3A//www.googleapis.com/auth/earthengine%20https%3A//www.googleapis.com/auth/devstorage.full_control&request_id=JELcsWPyaxiCcbAgcHOSGj808DtsCJoY6AmCOecX6iQ&tc=wdoyTOeYoWHzE4xDAZLn4mZqB3QGy__37fVfSfpK-qQ&cc=PrGvqrsET7XMVN8rnKo6Cw3DnH4pi4O1pZbufU8pOd8</a></p>\n",
       "        <p>The authorization workflow will generate a code, which you should paste in the box below.</p>\n",
       "        "
      ],
      "text/plain": [
       "<IPython.core.display.HTML object>"
      ]
     },
     "metadata": {},
     "output_type": "display_data"
    },
    {
     "name": "stdout",
     "output_type": "stream",
     "text": [
      "Enter verification code: 4/1ARtbsJr9mAGWCNmdpVvPh5pqZq22Q6vzZtb7TeyLJqvyMiHuS46SZEUEEPQ\n",
      "\n",
      "Successfully saved authorization token.\n"
     ]
    }
   ],
   "source": [
    "import ee\n",
    "ee.Authenticate()\n",
    "ee.Initialize()"
   ]
  },
  {
   "cell_type": "markdown",
   "id": "27868a4b",
   "metadata": {},
   "source": [
    "Vamos a utilizar el shp de Buenos Aires cargado en el práctico:"
   ]
  },
  {
   "cell_type": "code",
   "execution_count": 2,
   "id": "1b5bb9bc",
   "metadata": {},
   "outputs": [],
   "source": [
    "buenos_aires = ee.FeatureCollection('users/adelarja/Hidro2022/Buenos_Aires')"
   ]
  },
  {
   "cell_type": "markdown",
   "id": "52b7eab8",
   "metadata": {},
   "source": [
    "Para comparar con los datos obtenidos en el práctico, nos traemos las imágenes de agosto 2017."
   ]
  },
  {
   "cell_type": "code",
   "execution_count": 3,
   "id": "517e46da",
   "metadata": {},
   "outputs": [],
   "source": [
    "sentinel_1 = ee.ImageCollection('COPERNICUS/S1_GRD').filterDate('2017-08-01', '2017-08-31')"
   ]
  },
  {
   "cell_type": "markdown",
   "id": "b59e29c8",
   "metadata": {},
   "source": [
    "Creamos una función de clipping"
   ]
  },
  {
   "cell_type": "code",
   "execution_count": 4,
   "id": "3f7ee8ee",
   "metadata": {},
   "outputs": [],
   "source": [
    "def clipper(shape, image_set):\n",
    "    \"\"\"Clip the image set using the shape geometry.\"\"\"\n",
    "    return image_set.clip(shape)"
   ]
  },
  {
   "cell_type": "markdown",
   "id": "d429e3bb",
   "metadata": {},
   "source": [
    "Aplicamos el clipping a nuestro set"
   ]
  },
  {
   "cell_type": "code",
   "execution_count": 5,
   "id": "b5f3b13a",
   "metadata": {},
   "outputs": [],
   "source": [
    "sentinel_1 = sentinel_1.map(lambda x: clipper(buenos_aires, x))"
   ]
  },
  {
   "cell_type": "markdown",
   "id": "65dd7c48",
   "metadata": {},
   "source": [
    "Nos quedamos con la polarización VV y VH, tomada por IW."
   ]
  },
  {
   "cell_type": "code",
   "execution_count": 6,
   "id": "59990be5",
   "metadata": {},
   "outputs": [],
   "source": [
    "s1_vv_vh_iw = sentinel_1.filter(\n",
    "    ee.Filter.listContains('transmitterReceiverPolarisation', 'VV')\n",
    ").filter(\n",
    "    ee.Filter.listContains('transmitterReceiverPolarisation', 'VH')\n",
    ").filter(ee.Filter.eq('instrumentMode', 'IW'))"
   ]
  },
  {
   "cell_type": "markdown",
   "id": "f7fe1f24",
   "metadata": {},
   "source": [
    "Ahora filtramos orbita ascendente y descendente en distintas colecciones"
   ]
  },
  {
   "cell_type": "code",
   "execution_count": 7,
   "id": "d6ca1988",
   "metadata": {},
   "outputs": [],
   "source": [
    "s1_vv_vh_iw_asc = s1_vv_vh_iw.filter(ee.Filter.eq('orbitProperties_pass', 'ASCENDING'))\n",
    "s1_vv_vh_iw_desc = s1_vv_vh_iw.filter(ee.Filter.eq('orbitProperties_pass', 'DESCENDING'))"
   ]
  },
  {
   "cell_type": "markdown",
   "id": "1958bde8",
   "metadata": {},
   "source": [
    "Nos quedamos con una imagen ascendente y otra descendente"
   ]
  },
  {
   "cell_type": "code",
   "execution_count": 8,
   "id": "a4545472",
   "metadata": {},
   "outputs": [],
   "source": [
    "asc = s1_vv_vh_iw_asc\n",
    "desc = s1_vv_vh_iw_desc"
   ]
  },
  {
   "cell_type": "markdown",
   "id": "56723172",
   "metadata": {},
   "source": [
    "Ahora nos quedamos con vv asc y desc y vh asc y desc"
   ]
  },
  {
   "cell_type": "code",
   "execution_count": 9,
   "id": "6efc9308",
   "metadata": {},
   "outputs": [],
   "source": [
    "vv_asc = asc.select('VV').mean()\n",
    "vv_desc = desc.select('VV').mean()\n",
    "\n",
    "vh_asc = asc.select('VH').mean()\n",
    "vh_desc = desc.select('VH').mean()"
   ]
  },
  {
   "cell_type": "markdown",
   "id": "9b9fc8e1",
   "metadata": {},
   "source": [
    "Configuramos folium para plotear la data"
   ]
  },
  {
   "cell_type": "code",
   "execution_count": 15,
   "id": "e409cd08",
   "metadata": {},
   "outputs": [],
   "source": [
    "import folium\n",
    "\n",
    "# Define a method for displaying Earth Engine image tiles on a folium map.\n",
    "def add_ee_layer(self, ee_object, vis_params, name):\n",
    "    \n",
    "    try:    \n",
    "        # display ee.Image()\n",
    "        if isinstance(ee_object, ee.image.Image):    \n",
    "            map_id_dict = ee.Image(ee_object).getMapId(vis_params)\n",
    "            folium.raster_layers.TileLayer(\n",
    "            tiles = map_id_dict['tile_fetcher'].url_format,\n",
    "            attr = 'Google Earth Engine',\n",
    "            name = name,\n",
    "            overlay = True,\n",
    "            control = True\n",
    "            ).add_to(self)\n",
    "\n",
    "        # display ee.ImageCollection()\n",
    "        elif isinstance(ee_object, ee.imagecollection.ImageCollection):    \n",
    "            ee_object_new = ee_object.mosaic()\n",
    "            map_id_dict = ee.Image(ee_object_new).getMapId(vis_params)\n",
    "            folium.raster_layers.TileLayer(\n",
    "            tiles = map_id_dict['tile_fetcher'].url_format,\n",
    "            attr = 'Google Earth Engine',\n",
    "            name = name,\n",
    "            overlay = True,\n",
    "            control = True\n",
    "            ).add_to(self)\n",
    "\n",
    "        # display ee.Geometry()\n",
    "        elif isinstance(ee_object, ee.geometry.Geometry):    \n",
    "            folium.GeoJson(\n",
    "            data = ee_object.getInfo(),\n",
    "            name = name,\n",
    "            overlay = True,\n",
    "            control = True\n",
    "        ).add_to(self)\n",
    "\n",
    "        # display ee.FeatureCollection()\n",
    "        elif isinstance(ee_object, ee.featurecollection.FeatureCollection):  \n",
    "            ee_object_new = ee.Image().paint(ee_object, 0, 2)\n",
    "            map_id_dict = ee.Image(ee_object_new).getMapId(vis_params)\n",
    "            folium.raster_layers.TileLayer(\n",
    "            tiles = map_id_dict['tile_fetcher'].url_format,\n",
    "            attr = 'Google Earth Engine',\n",
    "            name = name,\n",
    "            overlay = True,\n",
    "            control = True\n",
    "        ).add_to(self)\n",
    "    \n",
    "    except:\n",
    "        print(\"Could not display {}\".format(name))\n",
    "\n",
    "\n",
    "# Add EE drawing method to folium.\n",
    "folium.Map.add_ee_layer = add_ee_layer"
   ]
  },
  {
   "cell_type": "code",
   "execution_count": 46,
   "id": "bf9e0c47",
   "metadata": {},
   "outputs": [],
   "source": [
    "def mask_image(threshold, image):\n",
    "    mask = image.lte(threshold).rename('mask')\n",
    "    masked_image = image.mask(mask)\n",
    "    return masked_image.updateMask(mask)"
   ]
  },
  {
   "cell_type": "code",
   "execution_count": 48,
   "id": "cb751182",
   "metadata": {},
   "outputs": [
    {
     "data": {
      "text/html": [
       "<div style=\"width:100%;\"><div style=\"position:relative;width:100%;height:0;padding-bottom:60%;\"><span style=\"color:#565656\">Make this Notebook Trusted to load map: File -> Trust Notebook</span><iframe srcdoc=\"&lt;!DOCTYPE html&gt;\n",
       "&lt;head&gt;    \n",
       "    &lt;meta http-equiv=&quot;content-type&quot; content=&quot;text/html; charset=UTF-8&quot; /&gt;\n",
       "    \n",
       "        &lt;script&gt;\n",
       "            L_NO_TOUCH = false;\n",
       "            L_DISABLE_3D = false;\n",
       "        &lt;/script&gt;\n",
       "    \n",
       "    &lt;style&gt;html, body {width: 100%;height: 100%;margin: 0;padding: 0;}&lt;/style&gt;\n",
       "    &lt;style&gt;#map {position:absolute;top:0;bottom:0;right:0;left:0;}&lt;/style&gt;\n",
       "    &lt;script src=&quot;https://cdn.jsdelivr.net/npm/leaflet@1.6.0/dist/leaflet.js&quot;&gt;&lt;/script&gt;\n",
       "    &lt;script src=&quot;https://code.jquery.com/jquery-1.12.4.min.js&quot;&gt;&lt;/script&gt;\n",
       "    &lt;script src=&quot;https://maxcdn.bootstrapcdn.com/bootstrap/3.2.0/js/bootstrap.min.js&quot;&gt;&lt;/script&gt;\n",
       "    &lt;script src=&quot;https://cdnjs.cloudflare.com/ajax/libs/Leaflet.awesome-markers/2.0.2/leaflet.awesome-markers.js&quot;&gt;&lt;/script&gt;\n",
       "    &lt;link rel=&quot;stylesheet&quot; href=&quot;https://cdn.jsdelivr.net/npm/leaflet@1.6.0/dist/leaflet.css&quot;/&gt;\n",
       "    &lt;link rel=&quot;stylesheet&quot; href=&quot;https://maxcdn.bootstrapcdn.com/bootstrap/3.2.0/css/bootstrap.min.css&quot;/&gt;\n",
       "    &lt;link rel=&quot;stylesheet&quot; href=&quot;https://maxcdn.bootstrapcdn.com/bootstrap/3.2.0/css/bootstrap-theme.min.css&quot;/&gt;\n",
       "    &lt;link rel=&quot;stylesheet&quot; href=&quot;https://maxcdn.bootstrapcdn.com/font-awesome/4.6.3/css/font-awesome.min.css&quot;/&gt;\n",
       "    &lt;link rel=&quot;stylesheet&quot; href=&quot;https://cdnjs.cloudflare.com/ajax/libs/Leaflet.awesome-markers/2.0.2/leaflet.awesome-markers.css&quot;/&gt;\n",
       "    &lt;link rel=&quot;stylesheet&quot; href=&quot;https://cdn.jsdelivr.net/gh/python-visualization/folium/folium/templates/leaflet.awesome.rotate.min.css&quot;/&gt;\n",
       "    \n",
       "            &lt;meta name=&quot;viewport&quot; content=&quot;width=device-width,\n",
       "                initial-scale=1.0, maximum-scale=1.0, user-scalable=no&quot; /&gt;\n",
       "            &lt;style&gt;\n",
       "                #map_a7b58db850c925c472bc69e8c22ac8df {\n",
       "                    position: relative;\n",
       "                    width: 100.0%;\n",
       "                    height: 100.0%;\n",
       "                    left: 0.0%;\n",
       "                    top: 0.0%;\n",
       "                }\n",
       "            &lt;/style&gt;\n",
       "        \n",
       "&lt;/head&gt;\n",
       "&lt;body&gt;    \n",
       "    \n",
       "            &lt;div class=&quot;folium-map&quot; id=&quot;map_a7b58db850c925c472bc69e8c22ac8df&quot; &gt;&lt;/div&gt;\n",
       "        \n",
       "&lt;/body&gt;\n",
       "&lt;script&gt;    \n",
       "    \n",
       "            var map_a7b58db850c925c472bc69e8c22ac8df = L.map(\n",
       "                &quot;map_a7b58db850c925c472bc69e8c22ac8df&quot;,\n",
       "                {\n",
       "                    center: [-34.603722, -58.381592],\n",
       "                    crs: L.CRS.EPSG3857,\n",
       "                    zoom: 5,\n",
       "                    zoomControl: true,\n",
       "                    preferCanvas: false,\n",
       "                }\n",
       "            );\n",
       "\n",
       "            \n",
       "\n",
       "        \n",
       "    \n",
       "            var tile_layer_e076f8669b5bc5c18d67231905bc0a1e = L.tileLayer(\n",
       "                &quot;https://{s}.tile.openstreetmap.org/{z}/{x}/{y}.png&quot;,\n",
       "                {&quot;attribution&quot;: &quot;Data by \\u0026copy; \\u003ca href=\\&quot;http://openstreetmap.org\\&quot;\\u003eOpenStreetMap\\u003c/a\\u003e, under \\u003ca href=\\&quot;http://www.openstreetmap.org/copyright\\&quot;\\u003eODbL\\u003c/a\\u003e.&quot;, &quot;detectRetina&quot;: false, &quot;maxNativeZoom&quot;: 18, &quot;maxZoom&quot;: 18, &quot;minZoom&quot;: 0, &quot;noWrap&quot;: false, &quot;opacity&quot;: 1, &quot;subdomains&quot;: &quot;abc&quot;, &quot;tms&quot;: false}\n",
       "            ).addTo(map_a7b58db850c925c472bc69e8c22ac8df);\n",
       "        \n",
       "    \n",
       "            var tile_layer_c2d0e59d99c7957f766d22368afef24c = L.tileLayer(\n",
       "                &quot;https://earthengine.googleapis.com/v1alpha/projects/earthengine-legacy/maps/a6b990812556c8f7952fdca1ead2c2d9-d20756a8d7bc2cc035b7408389c43d53/tiles/{z}/{x}/{y}&quot;,\n",
       "                {&quot;attribution&quot;: &quot;Google Earth Engine&quot;, &quot;detectRetina&quot;: false, &quot;maxNativeZoom&quot;: 18, &quot;maxZoom&quot;: 18, &quot;minZoom&quot;: 0, &quot;noWrap&quot;: false, &quot;opacity&quot;: 1, &quot;subdomains&quot;: &quot;abc&quot;, &quot;tms&quot;: false}\n",
       "            ).addTo(map_a7b58db850c925c472bc69e8c22ac8df);\n",
       "        \n",
       "    \n",
       "            var tile_layer_8a0f664946561bdc9a35c376dbb0bd2a = L.tileLayer(\n",
       "                &quot;https://earthengine.googleapis.com/v1alpha/projects/earthengine-legacy/maps/661536521c5a9b7cb5a8fe62149ea5ae-e2782cfabeba4855ebb9d1022780b338/tiles/{z}/{x}/{y}&quot;,\n",
       "                {&quot;attribution&quot;: &quot;Google Earth Engine&quot;, &quot;detectRetina&quot;: false, &quot;maxNativeZoom&quot;: 18, &quot;maxZoom&quot;: 18, &quot;minZoom&quot;: 0, &quot;noWrap&quot;: false, &quot;opacity&quot;: 1, &quot;subdomains&quot;: &quot;abc&quot;, &quot;tms&quot;: false}\n",
       "            ).addTo(map_a7b58db850c925c472bc69e8c22ac8df);\n",
       "        \n",
       "    \n",
       "            var tile_layer_f1469f5f3b6e983a36668617c27d58ad = L.tileLayer(\n",
       "                &quot;https://earthengine.googleapis.com/v1alpha/projects/earthengine-legacy/maps/e663f3fcb240239dc77ef9ca619f94ff-e2551e389bf2dfed0909cf19e0e3dc76/tiles/{z}/{x}/{y}&quot;,\n",
       "                {&quot;attribution&quot;: &quot;Google Earth Engine&quot;, &quot;detectRetina&quot;: false, &quot;maxNativeZoom&quot;: 18, &quot;maxZoom&quot;: 18, &quot;minZoom&quot;: 0, &quot;noWrap&quot;: false, &quot;opacity&quot;: 1, &quot;subdomains&quot;: &quot;abc&quot;, &quot;tms&quot;: false}\n",
       "            ).addTo(map_a7b58db850c925c472bc69e8c22ac8df);\n",
       "        \n",
       "    \n",
       "            var tile_layer_010e61448268e5d013c9f522cf1bc903 = L.tileLayer(\n",
       "                &quot;https://earthengine.googleapis.com/v1alpha/projects/earthengine-legacy/maps/bf6ca2a31ed5e84013015f893518b712-8bf78e0b704e63203a058360aa87395a/tiles/{z}/{x}/{y}&quot;,\n",
       "                {&quot;attribution&quot;: &quot;Google Earth Engine&quot;, &quot;detectRetina&quot;: false, &quot;maxNativeZoom&quot;: 18, &quot;maxZoom&quot;: 18, &quot;minZoom&quot;: 0, &quot;noWrap&quot;: false, &quot;opacity&quot;: 1, &quot;subdomains&quot;: &quot;abc&quot;, &quot;tms&quot;: false}\n",
       "            ).addTo(map_a7b58db850c925c472bc69e8c22ac8df);\n",
       "        \n",
       "    \n",
       "            var tile_layer_f61262c15777c6cc95daab6678e1b4f3 = L.tileLayer(\n",
       "                &quot;https://earthengine.googleapis.com/v1alpha/projects/earthengine-legacy/maps/661bccfb4d79f09bc436e118d4c75722-78f7179f3013176189592fab013dfaa1/tiles/{z}/{x}/{y}&quot;,\n",
       "                {&quot;attribution&quot;: &quot;Google Earth Engine&quot;, &quot;detectRetina&quot;: false, &quot;maxNativeZoom&quot;: 18, &quot;maxZoom&quot;: 18, &quot;minZoom&quot;: 0, &quot;noWrap&quot;: false, &quot;opacity&quot;: 1, &quot;subdomains&quot;: &quot;abc&quot;, &quot;tms&quot;: false}\n",
       "            ).addTo(map_a7b58db850c925c472bc69e8c22ac8df);\n",
       "        \n",
       "    \n",
       "            var layer_control_fdda960eb2983c924c198acd3cc64afc = {\n",
       "                base_layers : {\n",
       "                    &quot;openstreetmap&quot; : tile_layer_e076f8669b5bc5c18d67231905bc0a1e,\n",
       "                },\n",
       "                overlays :  {\n",
       "                    &quot;Ascendente VV&quot; : tile_layer_c2d0e59d99c7957f766d22368afef24c,\n",
       "                    &quot;Descendente VV&quot; : tile_layer_8a0f664946561bdc9a35c376dbb0bd2a,\n",
       "                    &quot;Ascendente VH&quot; : tile_layer_f1469f5f3b6e983a36668617c27d58ad,\n",
       "                    &quot;Descendente VH&quot; : tile_layer_010e61448268e5d013c9f522cf1bc903,\n",
       "                    &quot;BsAs&quot; : tile_layer_f61262c15777c6cc95daab6678e1b4f3,\n",
       "                },\n",
       "            };\n",
       "            L.control.layers(\n",
       "                layer_control_fdda960eb2983c924c198acd3cc64afc.base_layers,\n",
       "                layer_control_fdda960eb2983c924c198acd3cc64afc.overlays,\n",
       "                {&quot;autoZIndex&quot;: true, &quot;collapsed&quot;: true, &quot;position&quot;: &quot;topright&quot;}\n",
       "            ).addTo(map_a7b58db850c925c472bc69e8c22ac8df);\n",
       "        \n",
       "&lt;/script&gt;\" style=\"position:absolute;width:100%;height:100%;left:0;top:0;border:none !important;\" allowfullscreen webkitallowfullscreen mozallowfullscreen></iframe></div></div>"
      ],
      "text/plain": [
       "<folium.folium.Map at 0x7f9c7f9904f0>"
      ]
     },
     "metadata": {},
     "output_type": "display_data"
    }
   ],
   "source": [
    "lat, lon = -34.603722, -58.381592\n",
    "\n",
    "my_map = folium.Map(location=[lat, lon], zoom_start=5)\n",
    "\n",
    "my_map.add_ee_layer(vv_asc, {'min': -21, 'max': 0}, \"Ascendente VV\")\n",
    "my_map.add_ee_layer(mask_image(-17, vv_desc), {'min': -12, 'max': -4, 'palette': ['blue']}, \"Descendente VV\")\n",
    "my_map.add_ee_layer(vh_asc, {'min': -12, 'max': -4}, \"Ascendente VH\")\n",
    "my_map.add_ee_layer(vh_desc, {'min': -12, 'max': -4}, \"Descendente VH\")\n",
    "my_map.add_ee_layer(buenos_aires, {}, \"BsAs\")\n",
    "my_map.add_child(folium.LayerControl())\n",
    "display(my_map)"
   ]
  },
  {
   "cell_type": "code",
   "execution_count": null,
   "id": "2f36bd1e",
   "metadata": {},
   "outputs": [],
   "source": []
  }
 ],
 "metadata": {
  "kernelspec": {
   "display_name": "Python 3 (ipykernel)",
   "language": "python",
   "name": "python3"
  },
  "language_info": {
   "codemirror_mode": {
    "name": "ipython",
    "version": 3
   },
   "file_extension": ".py",
   "mimetype": "text/x-python",
   "name": "python",
   "nbconvert_exporter": "python",
   "pygments_lexer": "ipython3",
   "version": "3.8.12"
  }
 },
 "nbformat": 4,
 "nbformat_minor": 5
}
