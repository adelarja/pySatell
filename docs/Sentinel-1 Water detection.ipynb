{
 "cells": [
  {
   "cell_type": "markdown",
   "id": "9750a0a2",
   "metadata": {},
   "source": [
    "### Autenticación\n",
    "Primero autenticamos e inicializamos gee"
   ]
  },
  {
   "cell_type": "code",
   "execution_count": 1,
   "id": "7f79af7b",
   "metadata": {},
   "outputs": [
    {
     "data": {
      "text/html": [
       "<p>To authorize access needed by Earth Engine, open the following\n",
       "        URL in a web browser and follow the instructions:</p>\n",
       "        <p><a href=https://code.earthengine.google.com/client-auth?scopes=https%3A//www.googleapis.com/auth/earthengine%20https%3A//www.googleapis.com/auth/devstorage.full_control&request_id=MHur95rXpQdOMH9FiMuszRr_nrxpzscWSoCcuGdVc8w&tc=S2SHMUIbzRDaahgXrUJirAW5TRxIyoUnZHl1nGvGkrs&cc=WP-H8_X6LqMi_K81DPs1v05o25OBjwgoQizn9IVxxLI>https://code.earthengine.google.com/client-auth?scopes=https%3A//www.googleapis.com/auth/earthengine%20https%3A//www.googleapis.com/auth/devstorage.full_control&request_id=MHur95rXpQdOMH9FiMuszRr_nrxpzscWSoCcuGdVc8w&tc=S2SHMUIbzRDaahgXrUJirAW5TRxIyoUnZHl1nGvGkrs&cc=WP-H8_X6LqMi_K81DPs1v05o25OBjwgoQizn9IVxxLI</a></p>\n",
       "        <p>The authorization workflow will generate a code, which you should paste in the box below.</p>\n",
       "        "
      ],
      "text/plain": [
       "<IPython.core.display.HTML object>"
      ]
     },
     "metadata": {},
     "output_type": "display_data"
    },
    {
     "name": "stdout",
     "output_type": "stream",
     "text": [
      "Enter verification code: 4/1ARtbsJqSWJDUkopJPSpXz6iHNfa8c-AtmpoDUv6tbfMqXCEcE_5NY2i3DrE\n",
      "\n",
      "Successfully saved authorization token.\n"
     ]
    }
   ],
   "source": [
    "import ee\n",
    "ee.Authenticate()\n",
    "ee.Initialize()"
   ]
  },
  {
   "cell_type": "markdown",
   "id": "42d93dd9",
   "metadata": {},
   "source": [
    "Vamos a utilizar el shp de Buenos Aires cargado en el práctico:"
   ]
  },
  {
   "cell_type": "code",
   "execution_count": 2,
   "id": "b3fd1949",
   "metadata": {},
   "outputs": [],
   "source": [
    "buenos_aires = ee.FeatureCollection('users/adelarja/Hidro2022/Buenos_Aires')"
   ]
  },
  {
   "cell_type": "markdown",
   "id": "be34a387",
   "metadata": {},
   "source": [
    "Para comparar con los datos obtenidos en el práctico, nos traemos las imágenes de agosto 2017."
   ]
  },
  {
   "cell_type": "code",
   "execution_count": 3,
   "id": "45b20509",
   "metadata": {},
   "outputs": [],
   "source": [
    "sentinel_1 = ee.ImageCollection('COPERNICUS/S1_GRD').filterDate('2017-08-01', '2017-08-31')"
   ]
  },
  {
   "cell_type": "markdown",
   "id": "9d642124",
   "metadata": {},
   "source": [
    "Creamos una función de clipping"
   ]
  },
  {
   "cell_type": "code",
   "execution_count": 5,
   "id": "d03ab592",
   "metadata": {},
   "outputs": [],
   "source": [
    "def clipper(shape, image_set):\n",
    "    \"\"\"Clip the image set using the shape geometry.\"\"\"\n",
    "    return image_set.clip(shape)"
   ]
  },
  {
   "cell_type": "markdown",
   "id": "f10f821c",
   "metadata": {},
   "source": [
    "Aplicamos el clipping a nuestro set"
   ]
  },
  {
   "cell_type": "code",
   "execution_count": 8,
   "id": "56bce3fe",
   "metadata": {},
   "outputs": [],
   "source": [
    "sentinel_1 = sentinel_1.map(lambda x: clipper(buenos_aires, x))"
   ]
  },
  {
   "cell_type": "markdown",
   "id": "127fc2bd",
   "metadata": {},
   "source": [
    "Nos quedamos con la polarización VV y VH, tomada por IW."
   ]
  },
  {
   "cell_type": "code",
   "execution_count": 23,
   "id": "0d2a88c6",
   "metadata": {},
   "outputs": [],
   "source": [
    "s1_vv_vh_iw = sentinel_1.filter(\n",
    "    ee.Filter.listContains('transmitterReceiverPolarisation', 'VV')\n",
    ").filter(\n",
    "    ee.Filter.listContains('transmitterReceiverPolarisation', 'VH')\n",
    ").filter(ee.Filter.eq('instrumentMode', 'IW'))"
   ]
  },
  {
   "cell_type": "markdown",
   "id": "0a68ff96",
   "metadata": {},
   "source": [
    "Ahora filtramos orbita ascendente y descendente en distintas colecciones"
   ]
  },
  {
   "cell_type": "code",
   "execution_count": 25,
   "id": "6a871e92",
   "metadata": {},
   "outputs": [],
   "source": [
    "s1_vv_vh_iw_asc = s1_vv_vh_iw.filter(ee.Filter.eq('orbitProperties_pass', 'ASCENDING'))\n",
    "s1_vv_vh_iw_desc = s1_vv_vh_iw.filter(ee.Filter.eq('orbitProperties_pass', 'DESCENDING'))"
   ]
  },
  {
   "cell_type": "markdown",
   "id": "62e10cb6",
   "metadata": {},
   "source": [
    "Nos quedamos con una imagen ascendente y otra descendente"
   ]
  },
  {
   "cell_type": "code",
   "execution_count": 47,
   "id": "777b4e05",
   "metadata": {},
   "outputs": [],
   "source": [
    "asc = s1_vv_vh_iw_asc.first()\n",
    "desc = s1_vv_vh_iw_desc.first()"
   ]
  },
  {
   "cell_type": "markdown",
   "id": "4b558d31",
   "metadata": {},
   "source": [
    "Ahora nos quedamos con vv asc y desc y vh asc y desc"
   ]
  },
  {
   "cell_type": "code",
   "execution_count": 48,
   "id": "efd0bcc1",
   "metadata": {},
   "outputs": [],
   "source": [
    "vv_asc = asc.select('VV')\n",
    "vv_desc = desc.select('VV')\n",
    "\n",
    "vh_asc = asc.select('VH')\n",
    "vh_desc = desc.select('VH')"
   ]
  },
  {
   "cell_type": "markdown",
   "id": "fd30661a",
   "metadata": {},
   "source": [
    "Configuramos folium para plotear la data"
   ]
  },
  {
   "cell_type": "code",
   "execution_count": 35,
   "id": "0c18e109",
   "metadata": {},
   "outputs": [],
   "source": [
    "import folium\n",
    "\n",
    "lat, lon = -30.749311, -64.057867\n",
    "\n",
    "my_map = folium.Map(location=[lat, lon], zoom_start=22)\n",
    "\n",
    "# Define a method for displaying Earth Engine image tiles on a folium map.\n",
    "def add_ee_layer(self, ee_object, vis_params, name):\n",
    "    \n",
    "    try:    \n",
    "        # display ee.Image()\n",
    "        if isinstance(ee_object, ee.image.Image):    \n",
    "            map_id_dict = ee.Image(ee_object).getMapId(vis_params)\n",
    "            folium.raster_layers.TileLayer(\n",
    "            tiles = map_id_dict['tile_fetcher'].url_format,\n",
    "            attr = 'Google Earth Engine',\n",
    "            name = name,\n",
    "            overlay = True,\n",
    "            control = True\n",
    "            ).add_to(self)\n",
    "\n",
    "        # display ee.ImageCollection()\n",
    "        elif isinstance(ee_object, ee.imagecollection.ImageCollection):    \n",
    "            ee_object_new = ee_object.mosaic()\n",
    "            map_id_dict = ee.Image(ee_object_new).getMapId(vis_params)\n",
    "            folium.raster_layers.TileLayer(\n",
    "            tiles = map_id_dict['tile_fetcher'].url_format,\n",
    "            attr = 'Google Earth Engine',\n",
    "            name = name,\n",
    "            overlay = True,\n",
    "            control = True\n",
    "            ).add_to(self)\n",
    "\n",
    "        # display ee.Geometry()\n",
    "        elif isinstance(ee_object, ee.geometry.Geometry):    \n",
    "            folium.GeoJson(\n",
    "            data = ee_object.getInfo(),\n",
    "            name = name,\n",
    "            overlay = True,\n",
    "            control = True\n",
    "        ).add_to(self)\n",
    "\n",
    "        # display ee.FeatureCollection()\n",
    "        elif isinstance(ee_object, ee.featurecollection.FeatureCollection):  \n",
    "            ee_object_new = ee.Image().paint(ee_object, 0, 2)\n",
    "            map_id_dict = ee.Image(ee_object_new).getMapId(vis_params)\n",
    "            folium.raster_layers.TileLayer(\n",
    "            tiles = map_id_dict['tile_fetcher'].url_format,\n",
    "            attr = 'Google Earth Engine',\n",
    "            name = name,\n",
    "            overlay = True,\n",
    "            control = True\n",
    "        ).add_to(self)\n",
    "    \n",
    "    except:\n",
    "        print(\"Could not display {}\".format(name))\n",
    "\n",
    "\n",
    "# Add EE drawing method to folium.\n",
    "folium.Map.add_ee_layer = add_ee_layer"
   ]
  },
  {
   "cell_type": "code",
   "execution_count": 49,
   "id": "1775d029",
   "metadata": {},
   "outputs": [
    {
     "data": {
      "text/html": [
       "<div style=\"width:100%;\"><div style=\"position:relative;width:100%;height:0;padding-bottom:60%;\"><span style=\"color:#565656\">Make this Notebook Trusted to load map: File -> Trust Notebook</span><iframe srcdoc=\"&lt;!DOCTYPE html&gt;\n",
       "&lt;head&gt;    \n",
       "    &lt;meta http-equiv=&quot;content-type&quot; content=&quot;text/html; charset=UTF-8&quot; /&gt;\n",
       "    \n",
       "        &lt;script&gt;\n",
       "            L_NO_TOUCH = false;\n",
       "            L_DISABLE_3D = false;\n",
       "        &lt;/script&gt;\n",
       "    \n",
       "    &lt;style&gt;html, body {width: 100%;height: 100%;margin: 0;padding: 0;}&lt;/style&gt;\n",
       "    &lt;style&gt;#map {position:absolute;top:0;bottom:0;right:0;left:0;}&lt;/style&gt;\n",
       "    &lt;script src=&quot;https://cdn.jsdelivr.net/npm/leaflet@1.6.0/dist/leaflet.js&quot;&gt;&lt;/script&gt;\n",
       "    &lt;script src=&quot;https://code.jquery.com/jquery-1.12.4.min.js&quot;&gt;&lt;/script&gt;\n",
       "    &lt;script src=&quot;https://maxcdn.bootstrapcdn.com/bootstrap/3.2.0/js/bootstrap.min.js&quot;&gt;&lt;/script&gt;\n",
       "    &lt;script src=&quot;https://cdnjs.cloudflare.com/ajax/libs/Leaflet.awesome-markers/2.0.2/leaflet.awesome-markers.js&quot;&gt;&lt;/script&gt;\n",
       "    &lt;link rel=&quot;stylesheet&quot; href=&quot;https://cdn.jsdelivr.net/npm/leaflet@1.6.0/dist/leaflet.css&quot;/&gt;\n",
       "    &lt;link rel=&quot;stylesheet&quot; href=&quot;https://maxcdn.bootstrapcdn.com/bootstrap/3.2.0/css/bootstrap.min.css&quot;/&gt;\n",
       "    &lt;link rel=&quot;stylesheet&quot; href=&quot;https://maxcdn.bootstrapcdn.com/bootstrap/3.2.0/css/bootstrap-theme.min.css&quot;/&gt;\n",
       "    &lt;link rel=&quot;stylesheet&quot; href=&quot;https://maxcdn.bootstrapcdn.com/font-awesome/4.6.3/css/font-awesome.min.css&quot;/&gt;\n",
       "    &lt;link rel=&quot;stylesheet&quot; href=&quot;https://cdnjs.cloudflare.com/ajax/libs/Leaflet.awesome-markers/2.0.2/leaflet.awesome-markers.css&quot;/&gt;\n",
       "    &lt;link rel=&quot;stylesheet&quot; href=&quot;https://cdn.jsdelivr.net/gh/python-visualization/folium/folium/templates/leaflet.awesome.rotate.min.css&quot;/&gt;\n",
       "    \n",
       "            &lt;meta name=&quot;viewport&quot; content=&quot;width=device-width,\n",
       "                initial-scale=1.0, maximum-scale=1.0, user-scalable=no&quot; /&gt;\n",
       "            &lt;style&gt;\n",
       "                #map_94d2104c5e4ef8118ce8a0269003b93d {\n",
       "                    position: relative;\n",
       "                    width: 100.0%;\n",
       "                    height: 100.0%;\n",
       "                    left: 0.0%;\n",
       "                    top: 0.0%;\n",
       "                }\n",
       "            &lt;/style&gt;\n",
       "        \n",
       "&lt;/head&gt;\n",
       "&lt;body&gt;    \n",
       "    \n",
       "            &lt;div class=&quot;folium-map&quot; id=&quot;map_94d2104c5e4ef8118ce8a0269003b93d&quot; &gt;&lt;/div&gt;\n",
       "        \n",
       "&lt;/body&gt;\n",
       "&lt;script&gt;    \n",
       "    \n",
       "            var map_94d2104c5e4ef8118ce8a0269003b93d = L.map(\n",
       "                &quot;map_94d2104c5e4ef8118ce8a0269003b93d&quot;,\n",
       "                {\n",
       "                    center: [-30.749311, -64.057867],\n",
       "                    crs: L.CRS.EPSG3857,\n",
       "                    zoom: 22,\n",
       "                    zoomControl: true,\n",
       "                    preferCanvas: false,\n",
       "                }\n",
       "            );\n",
       "\n",
       "            \n",
       "\n",
       "        \n",
       "    \n",
       "            var tile_layer_90d46415806e7f967685b33726e62ed3 = L.tileLayer(\n",
       "                &quot;https://{s}.tile.openstreetmap.org/{z}/{x}/{y}.png&quot;,\n",
       "                {&quot;attribution&quot;: &quot;Data by \\u0026copy; \\u003ca href=\\&quot;http://openstreetmap.org\\&quot;\\u003eOpenStreetMap\\u003c/a\\u003e, under \\u003ca href=\\&quot;http://www.openstreetmap.org/copyright\\&quot;\\u003eODbL\\u003c/a\\u003e.&quot;, &quot;detectRetina&quot;: false, &quot;maxNativeZoom&quot;: 18, &quot;maxZoom&quot;: 18, &quot;minZoom&quot;: 0, &quot;noWrap&quot;: false, &quot;opacity&quot;: 1, &quot;subdomains&quot;: &quot;abc&quot;, &quot;tms&quot;: false}\n",
       "            ).addTo(map_94d2104c5e4ef8118ce8a0269003b93d);\n",
       "        \n",
       "    \n",
       "            var tile_layer_f5e7751340a8371371127595b0b62acd = L.tileLayer(\n",
       "                &quot;https://earthengine.googleapis.com/v1alpha/projects/earthengine-legacy/maps/02d8036e150ed87329f04ae60b520abb-540736f49405a3cf515cfc1deb526d94/tiles/{z}/{x}/{y}&quot;,\n",
       "                {&quot;attribution&quot;: &quot;Google Earth Engine&quot;, &quot;detectRetina&quot;: false, &quot;maxNativeZoom&quot;: 18, &quot;maxZoom&quot;: 18, &quot;minZoom&quot;: 0, &quot;noWrap&quot;: false, &quot;opacity&quot;: 1, &quot;subdomains&quot;: &quot;abc&quot;, &quot;tms&quot;: false}\n",
       "            ).addTo(map_94d2104c5e4ef8118ce8a0269003b93d);\n",
       "        \n",
       "    \n",
       "            var tile_layer_02a5f2457188653d622a037d20d0003c = L.tileLayer(\n",
       "                &quot;https://earthengine.googleapis.com/v1alpha/projects/earthengine-legacy/maps/8fd5d56d172ff438f28b554a264319f0-95fe371cbdff68c557037043b4d9302b/tiles/{z}/{x}/{y}&quot;,\n",
       "                {&quot;attribution&quot;: &quot;Google Earth Engine&quot;, &quot;detectRetina&quot;: false, &quot;maxNativeZoom&quot;: 18, &quot;maxZoom&quot;: 18, &quot;minZoom&quot;: 0, &quot;noWrap&quot;: false, &quot;opacity&quot;: 1, &quot;subdomains&quot;: &quot;abc&quot;, &quot;tms&quot;: false}\n",
       "            ).addTo(map_94d2104c5e4ef8118ce8a0269003b93d);\n",
       "        \n",
       "    \n",
       "            var tile_layer_bcd96d39434253e91d283c06aedc1d48 = L.tileLayer(\n",
       "                &quot;https://earthengine.googleapis.com/v1alpha/projects/earthengine-legacy/maps/8fd5d56d172ff438f28b554a264319f0-3ca20e8f2e8c81d68e82d44207f30801/tiles/{z}/{x}/{y}&quot;,\n",
       "                {&quot;attribution&quot;: &quot;Google Earth Engine&quot;, &quot;detectRetina&quot;: false, &quot;maxNativeZoom&quot;: 18, &quot;maxZoom&quot;: 18, &quot;minZoom&quot;: 0, &quot;noWrap&quot;: false, &quot;opacity&quot;: 1, &quot;subdomains&quot;: &quot;abc&quot;, &quot;tms&quot;: false}\n",
       "            ).addTo(map_94d2104c5e4ef8118ce8a0269003b93d);\n",
       "        \n",
       "    \n",
       "            var tile_layer_403aec1d855e59b11d5cb5fa08e6f37c = L.tileLayer(\n",
       "                &quot;https://earthengine.googleapis.com/v1alpha/projects/earthengine-legacy/maps/8fd5d56d172ff438f28b554a264319f0-03a7dd2ff2f4fdfe0944c9af1449aa18/tiles/{z}/{x}/{y}&quot;,\n",
       "                {&quot;attribution&quot;: &quot;Google Earth Engine&quot;, &quot;detectRetina&quot;: false, &quot;maxNativeZoom&quot;: 18, &quot;maxZoom&quot;: 18, &quot;minZoom&quot;: 0, &quot;noWrap&quot;: false, &quot;opacity&quot;: 1, &quot;subdomains&quot;: &quot;abc&quot;, &quot;tms&quot;: false}\n",
       "            ).addTo(map_94d2104c5e4ef8118ce8a0269003b93d);\n",
       "        \n",
       "    \n",
       "            var tile_layer_8947161ecf017acc18cf37ff84bf89ed = L.tileLayer(\n",
       "                &quot;https://earthengine.googleapis.com/v1alpha/projects/earthengine-legacy/maps/661bccfb4d79f09bc436e118d4c75722-d48b38d49c6d99f127551c098eb5e25b/tiles/{z}/{x}/{y}&quot;,\n",
       "                {&quot;attribution&quot;: &quot;Google Earth Engine&quot;, &quot;detectRetina&quot;: false, &quot;maxNativeZoom&quot;: 18, &quot;maxZoom&quot;: 18, &quot;minZoom&quot;: 0, &quot;noWrap&quot;: false, &quot;opacity&quot;: 1, &quot;subdomains&quot;: &quot;abc&quot;, &quot;tms&quot;: false}\n",
       "            ).addTo(map_94d2104c5e4ef8118ce8a0269003b93d);\n",
       "        \n",
       "    \n",
       "            var tile_layer_37f5e6965877468775424e9f8d3b5560 = L.tileLayer(\n",
       "                &quot;https://earthengine.googleapis.com/v1alpha/projects/earthengine-legacy/maps/018a92be465917a76c9410d6198864ba-09f3c400a6d8bcc168a5812ebd820bde/tiles/{z}/{x}/{y}&quot;,\n",
       "                {&quot;attribution&quot;: &quot;Google Earth Engine&quot;, &quot;detectRetina&quot;: false, &quot;maxNativeZoom&quot;: 18, &quot;maxZoom&quot;: 18, &quot;minZoom&quot;: 0, &quot;noWrap&quot;: false, &quot;opacity&quot;: 1, &quot;subdomains&quot;: &quot;abc&quot;, &quot;tms&quot;: false}\n",
       "            ).addTo(map_94d2104c5e4ef8118ce8a0269003b93d);\n",
       "        \n",
       "    \n",
       "            var tile_layer_89072416506ffd300bb7926c8395dded = L.tileLayer(\n",
       "                &quot;https://earthengine.googleapis.com/v1alpha/projects/earthengine-legacy/maps/661bccfb4d79f09bc436e118d4c75722-ff5a430e2aebf3718c0d877e10caf183/tiles/{z}/{x}/{y}&quot;,\n",
       "                {&quot;attribution&quot;: &quot;Google Earth Engine&quot;, &quot;detectRetina&quot;: false, &quot;maxNativeZoom&quot;: 18, &quot;maxZoom&quot;: 18, &quot;minZoom&quot;: 0, &quot;noWrap&quot;: false, &quot;opacity&quot;: 1, &quot;subdomains&quot;: &quot;abc&quot;, &quot;tms&quot;: false}\n",
       "            ).addTo(map_94d2104c5e4ef8118ce8a0269003b93d);\n",
       "        \n",
       "    \n",
       "            var tile_layer_bece53c7a7bc7f84f0c4e9343d12aa09 = L.tileLayer(\n",
       "                &quot;https://earthengine.googleapis.com/v1alpha/projects/earthengine-legacy/maps/b81e142d6eca408a86623da6142919b4-af85d96ce88eb9365a81cab56b039e00/tiles/{z}/{x}/{y}&quot;,\n",
       "                {&quot;attribution&quot;: &quot;Google Earth Engine&quot;, &quot;detectRetina&quot;: false, &quot;maxNativeZoom&quot;: 18, &quot;maxZoom&quot;: 18, &quot;minZoom&quot;: 0, &quot;noWrap&quot;: false, &quot;opacity&quot;: 1, &quot;subdomains&quot;: &quot;abc&quot;, &quot;tms&quot;: false}\n",
       "            ).addTo(map_94d2104c5e4ef8118ce8a0269003b93d);\n",
       "        \n",
       "    \n",
       "            var tile_layer_1081e56d117a89d7f7f0233a7ab7ec42 = L.tileLayer(\n",
       "                &quot;https://earthengine.googleapis.com/v1alpha/projects/earthengine-legacy/maps/661bccfb4d79f09bc436e118d4c75722-b144f9c5aa7789cb180350faeece97af/tiles/{z}/{x}/{y}&quot;,\n",
       "                {&quot;attribution&quot;: &quot;Google Earth Engine&quot;, &quot;detectRetina&quot;: false, &quot;maxNativeZoom&quot;: 18, &quot;maxZoom&quot;: 18, &quot;minZoom&quot;: 0, &quot;noWrap&quot;: false, &quot;opacity&quot;: 1, &quot;subdomains&quot;: &quot;abc&quot;, &quot;tms&quot;: false}\n",
       "            ).addTo(map_94d2104c5e4ef8118ce8a0269003b93d);\n",
       "        \n",
       "    \n",
       "            var tile_layer_6f1a92fa9f3b4de7faa0480ee9ee0b87 = L.tileLayer(\n",
       "                &quot;https://earthengine.googleapis.com/v1alpha/projects/earthengine-legacy/maps/ecd9ce0f9a6251d112c7bceab64622fd-67b99060129e4ca24f195e7b6303166f/tiles/{z}/{x}/{y}&quot;,\n",
       "                {&quot;attribution&quot;: &quot;Google Earth Engine&quot;, &quot;detectRetina&quot;: false, &quot;maxNativeZoom&quot;: 18, &quot;maxZoom&quot;: 18, &quot;minZoom&quot;: 0, &quot;noWrap&quot;: false, &quot;opacity&quot;: 1, &quot;subdomains&quot;: &quot;abc&quot;, &quot;tms&quot;: false}\n",
       "            ).addTo(map_94d2104c5e4ef8118ce8a0269003b93d);\n",
       "        \n",
       "    \n",
       "            var tile_layer_fb5c102776813b037f7a3f633fd6c06e = L.tileLayer(\n",
       "                &quot;https://earthengine.googleapis.com/v1alpha/projects/earthengine-legacy/maps/661bccfb4d79f09bc436e118d4c75722-5a1743ee1b3bfd26758bd0765fb1933e/tiles/{z}/{x}/{y}&quot;,\n",
       "                {&quot;attribution&quot;: &quot;Google Earth Engine&quot;, &quot;detectRetina&quot;: false, &quot;maxNativeZoom&quot;: 18, &quot;maxZoom&quot;: 18, &quot;minZoom&quot;: 0, &quot;noWrap&quot;: false, &quot;opacity&quot;: 1, &quot;subdomains&quot;: &quot;abc&quot;, &quot;tms&quot;: false}\n",
       "            ).addTo(map_94d2104c5e4ef8118ce8a0269003b93d);\n",
       "        \n",
       "    \n",
       "            var tile_layer_25afd809358d56450cf248c595db7938 = L.tileLayer(\n",
       "                &quot;https://earthengine.googleapis.com/v1alpha/projects/earthengine-legacy/maps/bae7f7bf629050f4ec5e6c3951b52811-15257fc8b47a4f8a029af5947d4d9555/tiles/{z}/{x}/{y}&quot;,\n",
       "                {&quot;attribution&quot;: &quot;Google Earth Engine&quot;, &quot;detectRetina&quot;: false, &quot;maxNativeZoom&quot;: 18, &quot;maxZoom&quot;: 18, &quot;minZoom&quot;: 0, &quot;noWrap&quot;: false, &quot;opacity&quot;: 1, &quot;subdomains&quot;: &quot;abc&quot;, &quot;tms&quot;: false}\n",
       "            ).addTo(map_94d2104c5e4ef8118ce8a0269003b93d);\n",
       "        \n",
       "    \n",
       "            var tile_layer_fb5d827dd2e14d8d6f3703d6fdf50ba3 = L.tileLayer(\n",
       "                &quot;https://earthengine.googleapis.com/v1alpha/projects/earthengine-legacy/maps/661bccfb4d79f09bc436e118d4c75722-f0f2b637b0061774eb67b1aea4f8b630/tiles/{z}/{x}/{y}&quot;,\n",
       "                {&quot;attribution&quot;: &quot;Google Earth Engine&quot;, &quot;detectRetina&quot;: false, &quot;maxNativeZoom&quot;: 18, &quot;maxZoom&quot;: 18, &quot;minZoom&quot;: 0, &quot;noWrap&quot;: false, &quot;opacity&quot;: 1, &quot;subdomains&quot;: &quot;abc&quot;, &quot;tms&quot;: false}\n",
       "            ).addTo(map_94d2104c5e4ef8118ce8a0269003b93d);\n",
       "        \n",
       "    \n",
       "            var tile_layer_783ce187a76a51cf00dd1dca7fef4a4b = L.tileLayer(\n",
       "                &quot;https://earthengine.googleapis.com/v1alpha/projects/earthengine-legacy/maps/30667c0bd7cb12db7fe16a15341b2b77-6f42ef16b6c30b582c115b939922941c/tiles/{z}/{x}/{y}&quot;,\n",
       "                {&quot;attribution&quot;: &quot;Google Earth Engine&quot;, &quot;detectRetina&quot;: false, &quot;maxNativeZoom&quot;: 18, &quot;maxZoom&quot;: 18, &quot;minZoom&quot;: 0, &quot;noWrap&quot;: false, &quot;opacity&quot;: 1, &quot;subdomains&quot;: &quot;abc&quot;, &quot;tms&quot;: false}\n",
       "            ).addTo(map_94d2104c5e4ef8118ce8a0269003b93d);\n",
       "        \n",
       "    \n",
       "            var tile_layer_6ffbe47ce1329af73cce52a1ad0f9183 = L.tileLayer(\n",
       "                &quot;https://earthengine.googleapis.com/v1alpha/projects/earthengine-legacy/maps/661bccfb4d79f09bc436e118d4c75722-a38012ee5bee2bab77a9bb4bd0f8619e/tiles/{z}/{x}/{y}&quot;,\n",
       "                {&quot;attribution&quot;: &quot;Google Earth Engine&quot;, &quot;detectRetina&quot;: false, &quot;maxNativeZoom&quot;: 18, &quot;maxZoom&quot;: 18, &quot;minZoom&quot;: 0, &quot;noWrap&quot;: false, &quot;opacity&quot;: 1, &quot;subdomains&quot;: &quot;abc&quot;, &quot;tms&quot;: false}\n",
       "            ).addTo(map_94d2104c5e4ef8118ce8a0269003b93d);\n",
       "        \n",
       "&lt;/script&gt;\" style=\"position:absolute;width:100%;height:100%;left:0;top:0;border:none !important;\" allowfullscreen webkitallowfullscreen mozallowfullscreen></iframe></div></div>"
      ],
      "text/plain": [
       "<folium.folium.Map at 0x7f0b675a21f0>"
      ]
     },
     "execution_count": 49,
     "metadata": {},
     "output_type": "execute_result"
    }
   ],
   "source": [
    "my_map.add_ee_layer(vv_asc, {'min': -12, 'max': -4}, \"Ascendente\")\n",
    "my_map.add_ee_layer(buenos_aires, {}, \"BsAs\")\n",
    "my_map"
   ]
  },
  {
   "cell_type": "code",
   "execution_count": null,
   "id": "546ab64c",
   "metadata": {},
   "outputs": [],
   "source": []
  }
 ],
 "metadata": {
  "kernelspec": {
   "display_name": "Python 3 (ipykernel)",
   "language": "python",
   "name": "python3"
  },
  "language_info": {
   "codemirror_mode": {
    "name": "ipython",
    "version": 3
   },
   "file_extension": ".py",
   "mimetype": "text/x-python",
   "name": "python",
   "nbconvert_exporter": "python",
   "pygments_lexer": "ipython3",
   "version": "3.8.12"
  }
 },
 "nbformat": 4,
 "nbformat_minor": 5
}
